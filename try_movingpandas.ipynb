{
 "cells": [
  {
   "cell_type": "markdown",
   "id": "a37fbdf7-2e11-4fa5-a2eb-f57149235421",
   "metadata": {},
   "source": [
    "### Play around with trajectory analysis\n",
    "Daniel O'Donohue from MapScaping recommended me movingpandas and mobilitydb, so I'll try out the first one here"
   ]
  },
  {
   "cell_type": "markdown",
   "id": "543d6b8a-a868-4247-a07f-f4ed978e4fe4",
   "metadata": {},
   "source": [
    "based on Geospatial Programming's YT Video https://www.youtube.com/watch?v=4S3f_fqInZY"
   ]
  },
  {
   "cell_type": "markdown",
   "id": "0d62c14b-d4a5-4db6-857f-0cc588d428a1",
   "metadata": {},
   "source": [
    "### struggeled with install of GeoViews and cartopy (pip install didn't work) until I discovered, that they explicitly say that it's not recommended to install it via pip\n",
    "-> trying out the Anaconda approach now.  <br> \n",
    "-> didn't work neither. Followed the steps described on the moving pandas GitHub for Anaconda, but got 500: Internal Server Error when trying to open the .ipynb file. \n",
    "Stackoverflow indicated that the problem might be that the package nbconvert is at version 5.5.0 (newest is 7.4.0), but updating in Anaconda doesn’t work <br> \n",
    "-> let it be for now. No movingpandas, but start simple with GeoPandas (see other .ipynb) <br> \n",
    "-> update Mid-June: plan to try it out with venv in PyCharm after getting some experience with virtual environments in R"
   ]
  },
  {
   "cell_type": "code",
   "execution_count": null,
   "id": "080f27e0-1b36-4d8f-8a6d-85d161a783f5",
   "metadata": {},
   "outputs": [],
   "source": []
  },
  {
   "cell_type": "code",
   "execution_count": null,
   "id": "f987f9c8-f0fb-44a7-b8ee-cbe81ea7e71d",
   "metadata": {
    "tags": []
   },
   "outputs": [],
   "source": [
    "# !pip install GeoViews\n",
    "# !pip install cartopy"
   ]
  },
  {
   "cell_type": "markdown",
   "id": "708ba520-dacc-4d42-8ff5-f45e68e0cd6d",
   "metadata": {},
   "source": [
    "fails to build cartopy..."
   ]
  },
  {
   "cell_type": "code",
   "execution_count": null,
   "id": "1bba1d49-46e1-4c46-bb16-1a5b83a864fc",
   "metadata": {
    "tags": []
   },
   "outputs": [],
   "source": [
    "# !pip install movingpandas\n",
    "import GeoViews\n",
    "import cartopy"
   ]
  },
  {
   "cell_type": "code",
   "execution_count": null,
   "id": "0637c7c6-30c7-4586-99b3-554588e4404a",
   "metadata": {},
   "outputs": [],
   "source": [
    "import pandas as pd\n",
    "import movingpandas as mpd\n",
    "\n",
    "# import warnings\n",
    "# warnings.filterwarnings('ignore')"
   ]
  },
  {
   "cell_type": "code",
   "execution_count": null,
   "id": "543c5426-21b2-4958-9ead-4462ba4deb63",
   "metadata": {
    "tags": []
   },
   "outputs": [],
   "source": [
    "df = pd.read_csv(\"JaredCombs_Ankle_Monitor.csv\")"
   ]
  },
  {
   "cell_type": "code",
   "execution_count": null,
   "id": "7aa8f4e9-6554-4e10-82dd-3b8019a72557",
   "metadata": {},
   "outputs": [],
   "source": [
    "df.head(3)"
   ]
  },
  {
   "cell_type": "code",
   "execution_count": null,
   "id": "ede57c85-2db6-4717-a94f-9ea3e8690aa1",
   "metadata": {},
   "outputs": [],
   "source": [
    "df.dtypes"
   ]
  },
  {
   "cell_type": "code",
   "execution_count": null,
   "id": "53567ca2-aaad-4110-ab1f-d8b1ef529557",
   "metadata": {},
   "outputs": [],
   "source": [
    "df['datetime'] = pd.to_datetime(df['datetime'])"
   ]
  },
  {
   "cell_type": "code",
   "execution_count": null,
   "id": "f90f9de8-4111-4331-a31a-a25800235ce3",
   "metadata": {},
   "outputs": [],
   "source": [
    "df.shape"
   ]
  },
  {
   "cell_type": "code",
   "execution_count": null,
   "id": "a06798bb-bc9b-46f5-a1ab-db44c597fc35",
   "metadata": {},
   "outputs": [],
   "source": [
    "df['datetime'].min(), df['datetime'].max()\n",
    "# we see: the observations stem from 5 different days in November 2016"
   ]
  },
  {
   "cell_type": "code",
   "execution_count": null,
   "id": "1fea578a-ede4-4c9e-8d52-c5bbfc953e26",
   "metadata": {},
   "outputs": [],
   "source": [
    "df = df[df['datetime'] < '2016-11-08'] # filter only the first day"
   ]
  },
  {
   "cell_type": "code",
   "execution_count": null,
   "id": "b41e2ef7-0257-43d0-b47b-2a5670b4f53a",
   "metadata": {},
   "outputs": [],
   "source": [
    "traj = mpd.Trajectory(df, \"SCombs\", t=\"datetime\", x=\"location_x\", y=\"location_y\", crs=4326)\n",
    "# create trajectory, give it some ID (doesn't matter that much here as it's only one person / single-entity)\n",
    "# define projection"
   ]
  },
  {
   "cell_type": "code",
   "execution_count": null,
   "id": "e597ce52-19ac-4f18-8236-5cd26ab4d8f8",
   "metadata": {},
   "outputs": [],
   "source": [
    "traj.df"
   ]
  },
  {
   "cell_type": "code",
   "execution_count": null,
   "id": "41f15c0f-f6ea-47b4-b372-e1f29f3638db",
   "metadata": {},
   "outputs": [],
   "source": [
    "traj.hvplot(c='speed', line_width=4, colorbar=True)"
   ]
  },
  {
   "cell_type": "code",
   "execution_count": null,
   "id": "fd812986-e2e2-4ebe-94e6-ce4c95b8eee9",
   "metadata": {},
   "outputs": [],
   "source": [
    "from datetime import timedelta"
   ]
  },
  {
   "cell_type": "code",
   "execution_count": null,
   "id": "4ec64f38-c9de-42ef-87f6-c0486e2d9013",
   "metadata": {},
   "outputs": [],
   "source": [
    "detector = mpd.TrajectoryStopDetector(traj)"
   ]
  },
  {
   "cell_type": "code",
   "execution_count": null,
   "id": "e0522683-5792-459a-9946-189064d6ade8",
   "metadata": {},
   "outputs": [],
   "source": [
    "stops = detector.get_stop_points(min_duration=timedelta(seconds=600), max_diameter=50)"
   ]
  },
  {
   "cell_type": "code",
   "execution_count": null,
   "id": "394330f1-68dc-40c5-9d1d-1dc645da1c44",
   "metadata": {},
   "outputs": [],
   "source": [
    "stops"
   ]
  },
  {
   "cell_type": "code",
   "execution_count": null,
   "id": "a9a562e5-458c-4061-89f4-8c37a432ec9e",
   "metadata": {},
   "outputs": [],
   "source": [
    "stops = stops.set_crs(4326)"
   ]
  },
  {
   "cell_type": "code",
   "execution_count": null,
   "id": "1653d120-4f8e-4738-872d-38379beb9ce6",
   "metadata": {},
   "outputs": [],
   "source": [
    "import hvplot.pandas"
   ]
  },
  {
   "cell_type": "code",
   "execution_count": null,
   "id": "90ec23c6-8c24-4c99-b241-9dc08683e2c3",
   "metadata": {},
   "outputs": [],
   "source": [
    "stops.hvplot(geo=True, tiles=True, hover_cols=\"all\", frame_height=300, frame_width=300) + \\\n",
    "traj.hvplot(geo=True, tiles=True, hover_cols=\"all\", frame_height=300, frame_width=300)"
   ]
  },
  {
   "cell_type": "code",
   "execution_count": null,
   "id": "8f821cb9-f47f-4a99-92cf-ef8846ff2634",
   "metadata": {},
   "outputs": [],
   "source": [
    "traj_col = mpd.StopSplitter(traj).split(max_diameter=50, min_duration=timedelta(seconds=600))"
   ]
  },
  {
   "cell_type": "code",
   "execution_count": null,
   "id": "ffba63cb-7143-41f7-b45e-fa59b45d5237",
   "metadata": {},
   "outputs": [],
   "source": [
    "traj_col.hvplot(line_width=3)"
   ]
  },
  {
   "cell_type": "code",
   "execution_count": null,
   "id": "06e5ef04-6d41-4816-b2f3-b9703a5786b0",
   "metadata": {},
   "outputs": [],
   "source": [
    "import geopandas as gpd"
   ]
  },
  {
   "cell_type": "code",
   "execution_count": null,
   "id": "b6d439a1-7b77-4c97-b289-9c76b39952b1",
   "metadata": {},
   "outputs": [],
   "source": [
    "crimes = gpd.read_file(\"crime_reports.shp\")"
   ]
  },
  {
   "cell_type": "code",
   "execution_count": null,
   "id": "f4a2c60d-06d0-4d30-9011-b711b0cbd91a",
   "metadata": {},
   "outputs": [],
   "source": [
    "crimes"
   ]
  },
  {
   "cell_type": "code",
   "execution_count": null,
   "id": "b5d561b1-4bfc-42ac-ad3a-9dd367c61f41",
   "metadata": {},
   "outputs": [],
   "source": [
    "from pyproj import CRS"
   ]
  },
  {
   "cell_type": "code",
   "execution_count": null,
   "id": "c634a43b-a404-429b-b89a-06de0a09bd8f",
   "metadata": {},
   "outputs": [],
   "source": [
    "traj = traj.to_crs(CRS(3857))"
   ]
  },
  {
   "cell_type": "code",
   "execution_count": null,
   "id": "4457d824-9b2d-4972-bd35-6582eca19b5c",
   "metadata": {},
   "outputs": [],
   "source": [
    "crimes = crimes.to_crs(3857)"
   ]
  },
  {
   "cell_type": "code",
   "execution_count": null,
   "id": "a48b203b-c13f-4697-9277-c1e59e7bad01",
   "metadata": {},
   "outputs": [],
   "source": [
    "crimes['dt'] = pd.to_datetime(crimes['report_dat'])"
   ]
  },
  {
   "cell_type": "code",
   "execution_count": null,
   "id": "0e4a9574-a41f-4918-bcba-bf7d7570ab94",
   "metadata": {},
   "outputs": [],
   "source": [
    "crimes = crimes[crimes['dt'] < '2016-11-08']"
   ]
  },
  {
   "cell_type": "code",
   "execution_count": null,
   "id": "86c5279e-a5a7-4d2d-ba07-6308bb7d8df9",
   "metadata": {},
   "outputs": [],
   "source": [
    "crimes"
   ]
  },
  {
   "cell_type": "code",
   "execution_count": null,
   "id": "f3d94cad-29ba-476f-984b-f7e1f433f9e6",
   "metadata": {},
   "outputs": [],
   "source": [
    "crimes['sus_loc'] = crimes['dt'].apply(traj.get_position_at)"
   ]
  },
  {
   "cell_type": "code",
   "execution_count": null,
   "id": "63b8f836-7b7d-421f-8a84-8000991eae29",
   "metadata": {},
   "outputs": [],
   "source": [
    "crimes['distance'] = crimes.apply(lambda row: row['geometry'].distance(row['sus_loc']), axis=1)"
   ]
  },
  {
   "cell_type": "code",
   "execution_count": null,
   "id": "a62bd0e8-3709-4ce8-9603-8abcce213af9",
   "metadata": {},
   "outputs": [],
   "source": [
    "crimes[crimes['distance'] < 200]"
   ]
  },
  {
   "cell_type": "code",
   "execution_count": null,
   "id": "277e6df0-a027-4b15-86e4-e34c997cb8c6",
   "metadata": {},
   "outputs": [],
   "source": [
    "stops.hvplot(geo=True, tiles=True, frame_height=400, frame_width=400) + \\\n",
    "crimes[crimes['distance'] < 200].hvplot(tiles=True, frame_height=400, frame_width=400)"
   ]
  },
  {
   "cell_type": "code",
   "execution_count": null,
   "id": "4f994c65-c98b-4a3d-a105-cf6c8292388d",
   "metadata": {},
   "outputs": [],
   "source": []
  }
 ],
 "metadata": {
  "kernelspec": {
   "display_name": "Python 3 (ipykernel)",
   "language": "python",
   "name": "python3"
  },
  "language_info": {
   "codemirror_mode": {
    "name": "ipython",
    "version": 3
   },
   "file_extension": ".py",
   "mimetype": "text/x-python",
   "name": "python",
   "nbconvert_exporter": "python",
   "pygments_lexer": "ipython3",
   "version": "3.9.12"
  }
 },
 "nbformat": 4,
 "nbformat_minor": 5
}
