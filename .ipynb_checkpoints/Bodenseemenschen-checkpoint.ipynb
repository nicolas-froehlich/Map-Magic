{
 "cells": [
  {
   "cell_type": "markdown",
   "id": "6f18cbcd-696f-4c83-8913-ca0c2f548493",
   "metadata": {},
   "source": [
    "#### How many people live around the Lake of Constance?\n",
    "\n",
    "A friend wanted to know how many people live around the Lake of Constance. We added up the approximate population of the larger cities at the lake's shore and concluded it to be around a million. As this is not a very satisfying answer, let's try to find ways to get closer to the 'thruth'."
   ]
  },
  {
   "cell_type": "markdown",
   "id": "e6bc3a5a-0b9f-4e16-ac9c-327c99fed4ae",
   "metadata": {},
   "source": [
    "Some preliminary thoughts:\n",
    "* who counts as 'Bodenseemensch'?\n",
    "    * residents of the municipalities that are bordering the lake\n",
    "        * what about Zweitwohnungen? There are quite a few in the area\n",
    "    * residents of municipalities within a radius X around the lake\n",
    "    * include travel time to the lake (e.g. 30min travel time counts as Bodenseemensch)\n",
    "        * by foot/bike/public transport/car\n",
    "* where to get the data from?\n",
    "    * Wikipedia\n",
    "        * manually (no!)\n",
    "        * scraping\n",
    "    * Zensus2022?\n",
    "    * Destatis?\n",
    "        * https://www.statistikportal.de/de/gemeindeverzeichnis even lists gender of inhabitants \n",
    "* where does the lake end (and the Rhine river begin)?"
   ]
  }
 ],
 "metadata": {
  "kernelspec": {
   "display_name": "Python 3 (ipykernel)",
   "language": "python",
   "name": "python3"
  },
  "language_info": {
   "codemirror_mode": {
    "name": "ipython",
    "version": 3
   },
   "file_extension": ".py",
   "mimetype": "text/x-python",
   "name": "python",
   "nbconvert_exporter": "python",
   "pygments_lexer": "ipython3",
   "version": "3.9.12"
  }
 },
 "nbformat": 4,
 "nbformat_minor": 5
}
